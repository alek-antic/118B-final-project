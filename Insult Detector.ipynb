{
 "cells": [
  {
   "cell_type": "markdown",
   "metadata": {},
   "source": [
    "# Insult Detector\n",
    "Have you ever wondered whether someone is insulting you online? Well now you can find out in one simple neural network!"
   ]
  },
  {
   "cell_type": "code",
   "execution_count": 1,
   "metadata": {},
   "outputs": [],
   "source": [
    "import numpy as np\n",
    "import scipy as scp\n",
    "import json\n",
    "import torch\n",
    "from torch import nn"
   ]
  },
  {
   "cell_type": "markdown",
   "metadata": {},
   "source": [
    "### Reformatting the vocabulary file\n",
    "Python is very efficient with dictionaries, and we need the \"index\" of each word in the vocabulary. So, this creates a mapping from word -> index."
   ]
  },
  {
   "cell_type": "code",
   "execution_count": 3,
   "metadata": {},
   "outputs": [],
   "source": [
    "# Take the original dictionary of words and index it\n",
    "def reformat_vocab():\n",
    "    formatted_vocab = {}\n",
    "    with open('glove.42B.300d.txt', 'r') as fp:\n",
    "        with open('glove.json', 'w') as out:\n",
    "            out.write('{\\n')\n",
    "            line = fp.readline()\n",
    "            while line:\n",
    "                tok = line.split()\n",
    "                word = tok[0]\n",
    "                vec = tok[1:]\n",
    "                # write this word-vec combo to our json\n",
    "                # doing this one line at a time instead of json dumping a whole dict\n",
    "                # (5.3GB file oof)\n",
    "                line = fp.readline()\n",
    "                out.write('\\t%s: [%s],\\n' % (word, ','.join(vec)))\n",
    "            out.write('}')\n",
    "\n"
   ]
  },
  {
   "cell_type": "markdown",
   "metadata": {},
   "source": [
    "### Data Import and Formatting\n",
    "\n",
    "We need to import the training text and labels, as well as construct the input matrices for each datum."
   ]
  },
  {
   "cell_type": "code",
   "execution_count": 4,
   "metadata": {},
   "outputs": [],
   "source": [
    "import string\n",
    "\n",
    "def load_vocab():\n",
    "    with open(\"glove.json\") as fp:\n",
    "        vocab = json.load(fp)\n",
    "    return vocab\n",
    "\n",
    "def comment_parse(comment, vocab):\n",
    "    # to lower\n",
    "    comment = comment.lower()\n",
    "    # remove punctuation\n",
    "    comment = comment.translate(comment.maketrans('','',string.punctuation))\n",
    "    \n",
    "    glove = np.zeros((len(comment.split()), 300))\n",
    "    \n",
    "    for word in comment:\n",
    "        if word in vocab:\n",
    "            glove[i] = np.asarray([float(val) for val in vocab[word]])\n",
    "    \n",
    "    return glove\n",
    "\n",
    "def load_train(filename):\n",
    "    labels = np.genfromtxt(filename\n",
    "                           , delimiter=\",\"\n",
    "                           , dtype=None\n",
    "                           , skip_header=1\n",
    "                           , usecols=0 \n",
    "                          )\n",
    "    \n",
    "    vocab = load_vocab()\n",
    "    \n",
    "    train_temp = []\n",
    "    longest = 0;\n",
    "    num_comments = 0\n",
    "    \n",
    "    with open(filename, 'r') as fp:\n",
    "        fp.readline() # skip the fist line (column labels)\n",
    "        line = fp.readline()\n",
    "        while line:\n",
    "            num_comments += 1\n",
    "            tok = line.split('\\\"\\\"\\\"')\n",
    "            comment = tok[1]\n",
    "            \n",
    "            if (len(comment) > longest):\n",
    "                longest = len(comment)\n",
    "\n",
    "            encoding = comment_parse(comment, vocab)\n",
    "            train_temp.append[encoding]\n",
    "            \n",
    "            line = fp.readline()\n",
    "        \n",
    "    train = np.zeros((num_comments, longest, 300))\n",
    "        \n",
    "    for i in range(0, len(train_temp)):\n",
    "        glove_enc = train_temp[i]\n",
    "        n_words = glove_enc.shape[0]\n",
    "        if n_words < longest:\n",
    "            np.append(glove_enc, np.zeros((longest - n_words,300)), axis = 0)\n",
    "        \n",
    "        train[i] = glove_enc\n",
    "        \n",
    "    return train, labels"
   ]
  },
  {
   "cell_type": "code",
   "execution_count": null,
   "metadata": {},
   "outputs": [],
   "source": [
    "comment_parse(\"Hi how are you\", load_vocab())"
   ]
  },
  {
   "cell_type": "code",
   "execution_count": null,
   "metadata": {},
   "outputs": [],
   "source": [
    "def get_device():\n",
    "    use_gpu = torch.is_cuda_available()\n",
    "\n",
    "    if use_gpu:\n",
    "        device = torch.device('cuda')\n",
    "        print('GPU used')\n",
    "    else:\n",
    "        device = torch.device('cpu')\n",
    "        print('CPU used')\n",
    "    return device"
   ]
  },
  {
   "cell_type": "code",
   "execution_count": 6,
   "metadata": {},
   "outputs": [],
   "source": [
    "class Model(nn.Module):\n",
    "    def __init__(self, input_size, output_size, n_layers):\n",
    "        super(Model, self).__init__()\n",
    "        \n",
    "        self.n_layers = n_layers\n",
    "        \n",
    "        self.rnn = nn.RNN(input_size, self.output_size, n_layers, batch_first=True)\n",
    "    \n",
    "    def forward(self, x):\n",
    "        batch_size = x.size(0)\n",
    "        \n",
    "        hidden = self.init_hidden(batch_size)\n",
    "        \n",
    "        out, hidden = self.rnn(x, hidden)\n",
    "        \n",
    "        return out, hidden\n",
    "\n",
    "    def init_hidden(self, size):\n",
    "        return torch.zeros(self.n_layers, size, self.output_size)"
   ]
  },
  {
   "cell_type": "code",
   "execution_count": 5,
   "metadata": {},
   "outputs": [],
   "source": [
    "def train(model, train_data, labels, n_epochs=10, learning_rate=0.01):\n",
    "    if model is not None:\n",
    "        model = Model(300, 1, 1)\n",
    "    \n",
    "    n = train_data.shape[0]\n",
    "    \n",
    "    model.to(get_device())\n",
    "    \n",
    "    # Loss function & optimization\n",
    "    criterion = nn.CrossEntropyLoss()\n",
    "    optimizer = torch.optim.Adam(model.parameters(), lr=lr)\n",
    "    \n",
    "    for i in range(1, n_epochs + 1):\n",
    "        optimizer.zero_grad()\n",
    "        \n",
    "        for j in range(0, n):\n",
    "            comment_tensor = torch.from_numpy(train_data[j])\n",
    "            label_tensor = torch.from_numpy(labels[j])\n",
    "        \n",
    "            # send input tensor to device\n",
    "            comment_tensor.to(device)\n",
    "            output, hidden = model(comment_tensor)\n",
    "            loss = criterion(output, label_tensor.view(-1).long())\n",
    "            loss.backward() # Do backprop\n",
    "            optimizer.step() # Update weights\n",
    "        \n",
    "        if epoch % 10 == 0:\n",
    "            print('Epoch: %d/%d.............' % (epoch, n_epochs), end=' ')\n",
    "            print(\"Loss: {%.4f}\".format(loss.item()))\n",
    "        \n",
    "    return model"
   ]
  }
 ],
 "metadata": {
  "kernelspec": {
   "display_name": "Python 3",
   "language": "python",
   "name": "python3"
  },
  "language_info": {
   "codemirror_mode": {
    "name": "ipython",
    "version": 3
   },
   "file_extension": ".py",
   "mimetype": "text/x-python",
   "name": "python",
   "nbconvert_exporter": "python",
   "pygments_lexer": "ipython3",
   "version": "3.7.3"
  }
 },
 "nbformat": 4,
 "nbformat_minor": 2
}

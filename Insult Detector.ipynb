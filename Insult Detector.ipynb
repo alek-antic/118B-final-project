{
 "cells": [
  {
   "cell_type": "markdown",
   "metadata": {},
   "source": [
    "# Insult Detector\n",
    "Have you ever wondered whether someone is insulting you online? Well now you can find out in one simple neural network!"
   ]
  },
  {
   "cell_type": "code",
   "execution_count": null,
   "metadata": {},
   "outputs": [],
   "source": [
    "import numpy as np\n",
    "import scipy as scp\n",
    "import json\n",
    "import torch\n",
    "from torch import nn"
   ]
  },
  {
   "cell_type": "markdown",
   "metadata": {},
   "source": [
    "### Reformatting the vocabulary file\n",
    "Python is very efficient with dictionaries, and we need the \"index\" of each word in the vocabulary. So, this creates a mapping from word -> index."
   ]
  },
  {
   "cell_type": "code",
   "execution_count": 4,
   "metadata": {},
   "outputs": [],
   "source": [
    "# Take the original dictionary of words and index it\n",
    "def reformat_vocab():\n",
    "    formatted_vocab = {}\n",
    "    with open('vocab.json', 'r') as fp:\n",
    "        vocab = json.load(fp)\n",
    "        i = 0\n",
    "        for word in vocab.keys():\n",
    "            formatted_vocab[word] = i\n",
    "            i += 1\n",
    "        \n",
    "\n",
    "    with open('vocab.json', 'w') as fp:\n",
    "        json.dump(formatted_vocab, fp, indent=2)"
   ]
  },
  {
   "cell_type": "markdown",
   "metadata": {},
   "source": [
    "### Data Import and Formatting\n",
    "\n",
    "We need to import the training text and labels, as well as construct the input matrices for each datum."
   ]
  },
  {
   "cell_type": "code",
   "execution_count": 2,
   "metadata": {},
   "outputs": [],
   "source": [
    "import string\n",
    "\n",
    "def load_vocab():\n",
    "    with open(\"vocab.json\") as fp:\n",
    "        vocab = json.load(fp)\n",
    "    return vocab\n",
    "\n",
    "def comment_parse(comment):\n",
    "    # to lower\n",
    "    comment = comment.lower()\n",
    "    # remove punctuation\n",
    "    comment = comment.translate(string.maketrans('','',string.punctuation))\n",
    "\n",
    "    vocab = load_vocab()\n",
    "    \n",
    "    glove = np.zeros(len(comment.split()), 300)\n",
    "    \n",
    "    for word in comment:\n",
    "        if word in vocab:\n",
    "            glove[i] = vocab[word]\n",
    "    \n",
    "    return glove\n",
    "\n",
    "def load_train():\n",
    "    labels = np.genfromtxt(\"data/train.csv\"\n",
    "                           , delimiter=\",\"\n",
    "                           , dtype=None\n",
    "                           , skip_header=1\n",
    "                           , usecols=0 \n",
    "                          )\n",
    "    \n",
    "    train = np.genfromtxt(\"data/train.csv\"\n",
    "                          , delimiter=\",\"\n",
    "                          , dtype=None\n",
    "                          , skip_header=1\n",
    "                          , usecols=2\n",
    "                          , converters={2:comment_parse}\n",
    "                         )\n",
    "    \n",
    "    return train, labels"
   ]
  },
  {
   "cell_type": "code",
   "execution_count": null,
   "metadata": {},
   "outputs": [],
   "source": [
    "# train, labels = load_train()"
   ]
  },
  {
   "cell_type": "code",
   "execution_count": null,
   "metadata": {},
   "outputs": [],
   "source": [
    "def get_device():\n",
    "    use_gpu = torch.is_cuda_available()\n",
    "\n",
    "    if use_gpu:\n",
    "        device = torch.device('cuda')\n",
    "        print('GPU used')\n",
    "    else:\n",
    "        device = torch.device('cpu')\n",
    "        print('CPU used')\n",
    "    return device"
   ]
  },
  {
   "cell_type": "code",
   "execution_count": null,
   "metadata": {},
   "outputs": [],
   "source": [
    "class Model(nn.Module):\n",
    "    def __init__(self, input_size, output_size, hidden_dim, n_layers):\n",
    "        super(Model, self).__init__()\n",
    "        \n",
    "        self.hidden_dim = hidden_dim\n",
    "        self.n_layers = n_layers\n",
    "        \n",
    "        self.rnn = nn.RNN(input_size, hidden_dim, n_layers, batch_first=True)\n",
    "        self.fc  = nn.Linear(hidden_dim, output_size)\n",
    "    \n",
    "    def forward(self, x):\n",
    "        batch_size = x.size(0)\n",
    "        \n",
    "        hidden = self.init_hidden(batch_size)\n",
    "        \n",
    "        out, hidden = self.rnn(x, hidden)\n",
    "        \n",
    "        out = out.contiguous().view(-1, self.hidden_dim)\n",
    "        out = self.fc(out)\n",
    "        \n",
    "        return out, hidden\n",
    "\n",
    "    def init_hidden(self, size):\n",
    "        return torch.zeros(self.n_layers, size, self.hidden_dim)"
   ]
  },
  {
   "cell_type": "code",
   "execution_count": null,
   "metadata": {},
   "outputs": [],
   "source": [
    "def train():\n",
    "    model = Model(\"\"\"TODO\"\"\")\n",
    "    model.to(get_device())\n",
    "    \n",
    "    n_epochs = 100\n",
    "    learning_rate = 0.01\n",
    "    \n",
    "    # Loss function & optimization\n",
    "    criterion = nn.CrossEntropyLoss()\n",
    "    optimizer = torch.optim.Adam(model.parameters(), lr=lr)\n",
    "    \n",
    "    for i in range(1, n_epochs + 1):\n",
    "        optimizer.zero_grad()\n",
    "        # send input tensor to device\n",
    "        # input.to(device)\n",
    "        output, hidden = model(input_seq)\n",
    "        loss = criterion(output, target_seq.view(-1).long())\n",
    "        loss.backward() # Do backprop\n",
    "        optimizer.step() # Update weights\n",
    "        \n",
    "        if epoch%10 == 0:\n",
    "            print('Epoch: %d/%d.............' % (epoch, n_epochs), end=' ')\n",
    "            print(\"Loss: {%.4f}\".format(loss.item()))\n",
    "        \n",
    "    return model"
   ]
  }
 ],
 "metadata": {
  "kernelspec": {
   "display_name": "Python 3",
   "language": "python",
   "name": "python3"
  }
 },
 "nbformat": 4,
 "nbformat_minor": 2
}

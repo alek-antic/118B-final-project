{
 "cells": [
  {
   "cell_type": "code",
   "execution_count": 7,
   "metadata": {},
   "outputs": [],
   "source": [
    "import numpy as np\n",
    "import scipy as scp\n",
    "import pandas as pd\n",
    "import json"
   ]
  },
  {
   "cell_type": "code",
   "execution_count": 15,
   "metadata": {},
   "outputs": [],
   "source": [
    "# Take the original dictionary of words and index it\n",
    "def reformat_vocab():\n",
    "    formatted_vocab = {}\n",
    "    with open('vocab.json', 'r') as fp:\n",
    "        vocab = json.load(fp)\n",
    "        i = 0\n",
    "        for word in vocab.keys():\n",
    "            formatted_vocab[word] = i\n",
    "            i += 1\n",
    "        \n",
    "\n",
    "    with open('vocab.json', 'w') as fp:\n",
    "        json.dump(formatted_vocab, fp, indent=2)"
   ]
  },
  {
   "cell_type": "markdown",
   "metadata": {},
   "source": [
    "# Data Import and Formatting\n",
    "\n",
    "We need to import the training text and labels, as well as construct the input matrices for each datum."
   ]
  },
  {
   "cell_type": "code",
   "execution_count": 23,
   "metadata": {},
   "outputs": [],
   "source": [
    "def load_vocab():\n",
    "    with open(\"vocab.json\") as fp:\n",
    "        vocab = json.load(fp)\n",
    "    return vocab\n",
    "\n",
    "def comment_parse(comment):\n",
    "    vocab = load_vocab()\n",
    "    one_hot = np.zeros((len(comment), len(vocab)), dtype=int)\n",
    "    i = 0\n",
    "    \n",
    "    # construct the one-hot vector for each word in the comment\n",
    "    for word in comment.split():\n",
    "        if word in vocab:\n",
    "            ind = vocab[word]\n",
    "            one_hot[i, ind] = 1\n",
    "            i += 1\n",
    "    \n",
    "    return one_hot\n",
    "\n",
    "def load_train():\n",
    "    labels = np.genfromtxt(\"data/train.csv\"\n",
    "                           , delimiter=\",\"\n",
    "                           , dtype=None\n",
    "                           , skip_header=1\n",
    "                           , usecols=0 \n",
    "                          )\n",
    "    train = np.genfromtxt(\"data/train.csv\"\n",
    "                          , delimiter=\",\"\n",
    "                          , dtype=None\n",
    "                          , skip_header=1\n",
    "                          , usecols=2\n",
    "                          , converters={2:comment_parse}\n",
    "                         )\n",
    "    return train, labels"
   ]
  },
  {
   "cell_type": "code",
   "execution_count": null,
   "metadata": {},
   "outputs": [],
   "source": [
    "load_train()"
   ]
  },
  {
   "cell_type": "code",
   "execution_count": null,
   "metadata": {},
   "outputs": [],
   "source": []
  }
 ],
 "metadata": {
  "kernelspec": {
   "display_name": "Python 3",
   "language": "python",
   "name": "python3"
  },
  "language_info": {
   "codemirror_mode": {
    "name": "ipython",
    "version": 3
   },
   "file_extension": ".py",
   "mimetype": "text/x-python",
   "name": "python",
   "nbconvert_exporter": "python",
   "pygments_lexer": "ipython3",
   "version": "3.7.3"
  }
 },
 "nbformat": 4,
 "nbformat_minor": 2
}
